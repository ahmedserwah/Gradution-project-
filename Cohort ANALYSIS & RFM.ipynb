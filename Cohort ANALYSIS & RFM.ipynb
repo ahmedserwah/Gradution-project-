{
 "cells": [
  {
   "cell_type": "markdown",
   "id": "13dab172",
   "metadata": {},
   "source": [
    "## COHORT ANALYSIS && RFM ANALYSIS "
   ]
  },
  {
   "cell_type": "markdown",
   "id": "7a3b8fc8",
   "metadata": {},
   "source": [
    "## IMPORTING LIBARARIES "
   ]
  },
  {
   "cell_type": "code",
   "execution_count": 39,
   "id": "c1986ecd",
   "metadata": {},
   "outputs": [],
   "source": [
    "# data manuplation\n",
    "import pandas as pd \n",
    "import numpy as np \n",
    "\n",
    "#data viz\n",
    "import matplotlib.pyplot as plt\n",
    "import seaborn as sns \n",
    "\n",
    "#date manuplation\n",
    "from datetime import datetime ,timedelta\n",
    "\n",
    "# data pre-processing \n",
    "from sklearn.preprocessing import StandardScaler\n",
    "\n",
    "# hierarchial clustring \n",
    "from scipy.cluster.hierarchy import dendrogram, linkage\n",
    "\n",
    "# k-mean clustring \n",
    "from sklearn.cluster import KMeans\n",
    "\n",
    "# evaultion \n",
    "from sklearn.metrics import calinski_harabasz_score\n",
    "\n",
    "\n",
    "sns.set() "
   ]
  },
  {
   "cell_type": "markdown",
   "id": "1da94770",
   "metadata": {},
   "source": [
    "## IMPORTING DATA "
   ]
  },
  {
   "cell_type": "code",
   "execution_count": 40,
   "id": "eaf177d2",
   "metadata": {},
   "outputs": [],
   "source": [
    "# read excel file into dataframe\n",
    "data=pd.read_excel('Online Retail.xlsx')"
   ]
  },
  {
   "cell_type": "markdown",
   "id": "6319548b",
   "metadata": {},
   "source": [
    "### MISSING VALUES "
   ]
  },
  {
   "cell_type": "code",
   "execution_count": 41,
   "id": "d1284e7e",
   "metadata": {},
   "outputs": [
    {
     "data": {
      "text/plain": [
       "InvoiceNo           0\n",
       "StockCode           0\n",
       "Description      1454\n",
       "Quantity            0\n",
       "InvoiceDate         0\n",
       "UnitPrice           0\n",
       "CustomerID     135080\n",
       "Country             0\n",
       "dtype: int64"
      ]
     },
     "execution_count": 41,
     "metadata": {},
     "output_type": "execute_result"
    }
   ],
   "source": [
    "data.isnull().sum()"
   ]
  },
  {
   "cell_type": "code",
   "execution_count": 42,
   "id": "99c2b1e6",
   "metadata": {},
   "outputs": [
    {
     "name": "stdout",
     "output_type": "stream",
     "text": [
      "InvoiceNo - 0%\n",
      "StockCode - 0%\n",
      "Description - 0%\n",
      "Quantity - 0%\n",
      "InvoiceDate - 0%\n",
      "UnitPrice - 0%\n",
      "CustomerID - 25%\n",
      "Country - 0%\n"
     ]
    }
   ],
   "source": [
    "# FUNCTION TO NOW THE PERCENTAGE OF THE NULL VALUES \n",
    "for col in data.columns:\n",
    "    pct_missing = np.mean(data[col].isnull())\n",
    "    print('{} - {}%'.format(col, round(pct_missing*100)))"
   ]
  },
  {
   "cell_type": "code",
   "execution_count": 43,
   "id": "ec9ec015",
   "metadata": {},
   "outputs": [],
   "source": [
    "# REMOVING NULL VALUES \n",
    "data.dropna(subset='CustomerID',inplace=True)\n"
   ]
  },
  {
   "cell_type": "markdown",
   "id": "d4c51df7",
   "metadata": {},
   "source": [
    "### duplicates"
   ]
  },
  {
   "cell_type": "code",
   "execution_count": 44,
   "id": "06d1e319",
   "metadata": {},
   "outputs": [
    {
     "data": {
      "text/plain": [
       "5225"
      ]
     },
     "execution_count": 44,
     "metadata": {},
     "output_type": "execute_result"
    }
   ],
   "source": [
    "# duplicates values |\n",
    "data.duplicated().sum()"
   ]
  },
  {
   "cell_type": "code",
   "execution_count": 45,
   "id": "b41508f4",
   "metadata": {},
   "outputs": [],
   "source": [
    "data = data.drop_duplicates()"
   ]
  },
  {
   "cell_type": "markdown",
   "id": "23054d60",
   "metadata": {},
   "source": [
    "### data type "
   ]
  },
  {
   "cell_type": "code",
   "execution_count": 46,
   "id": "9513f14b",
   "metadata": {},
   "outputs": [
    {
     "name": "stdout",
     "output_type": "stream",
     "text": [
      "<class 'pandas.core.frame.DataFrame'>\n",
      "Int64Index: 401604 entries, 0 to 541908\n",
      "Data columns (total 8 columns):\n",
      " #   Column       Non-Null Count   Dtype         \n",
      "---  ------       --------------   -----         \n",
      " 0   InvoiceNo    401604 non-null  object        \n",
      " 1   StockCode    401604 non-null  object        \n",
      " 2   Description  401604 non-null  object        \n",
      " 3   Quantity     401604 non-null  int64         \n",
      " 4   InvoiceDate  401604 non-null  datetime64[ns]\n",
      " 5   UnitPrice    401604 non-null  float64       \n",
      " 6   CustomerID   401604 non-null  float64       \n",
      " 7   Country      401604 non-null  object        \n",
      "dtypes: datetime64[ns](1), float64(2), int64(1), object(4)\n",
      "memory usage: 27.6+ MB\n"
     ]
    }
   ],
   "source": [
    "data.info()"
   ]
  },
  {
   "cell_type": "code",
   "execution_count": 47,
   "id": "04a2ba2e",
   "metadata": {},
   "outputs": [],
   "source": [
    "data['CustomerID']=data['CustomerID'].astype('int')"
   ]
  },
  {
   "cell_type": "code",
   "execution_count": 48,
   "id": "329a20bb",
   "metadata": {},
   "outputs": [
    {
     "data": {
      "text/plain": [
       "InvoiceNo              object\n",
       "StockCode              object\n",
       "Description            object\n",
       "Quantity                int64\n",
       "InvoiceDate    datetime64[ns]\n",
       "UnitPrice             float64\n",
       "CustomerID              int32\n",
       "Country                object\n",
       "dtype: object"
      ]
     },
     "execution_count": 48,
     "metadata": {},
     "output_type": "execute_result"
    }
   ],
   "source": [
    "data.dtypes"
   ]
  },
  {
   "cell_type": "markdown",
   "id": "2cb97033",
   "metadata": {},
   "source": [
    "### DATA EXPLORATION \n"
   ]
  },
  {
   "cell_type": "code",
   "execution_count": 49,
   "id": "139529d4",
   "metadata": {},
   "outputs": [],
   "source": [
    "# add total-amount column : \n",
    "data['TotalAmount']=data['UnitPrice']*data['Quantity']"
   ]
  },
  {
   "cell_type": "code",
   "execution_count": 50,
   "id": "aab60dc9",
   "metadata": {},
   "outputs": [
    {
     "data": {
      "text/html": [
       "<div>\n",
       "<style scoped>\n",
       "    .dataframe tbody tr th:only-of-type {\n",
       "        vertical-align: middle;\n",
       "    }\n",
       "\n",
       "    .dataframe tbody tr th {\n",
       "        vertical-align: top;\n",
       "    }\n",
       "\n",
       "    .dataframe thead th {\n",
       "        text-align: right;\n",
       "    }\n",
       "</style>\n",
       "<table border=\"1\" class=\"dataframe\">\n",
       "  <thead>\n",
       "    <tr style=\"text-align: right;\">\n",
       "      <th></th>\n",
       "      <th>Quantity</th>\n",
       "      <th>UnitPrice</th>\n",
       "      <th>CustomerID</th>\n",
       "      <th>TotalAmount</th>\n",
       "    </tr>\n",
       "  </thead>\n",
       "  <tbody>\n",
       "    <tr>\n",
       "      <th>count</th>\n",
       "      <td>401604.000000</td>\n",
       "      <td>401604.000000</td>\n",
       "      <td>401604.000000</td>\n",
       "      <td>401604.000000</td>\n",
       "    </tr>\n",
       "    <tr>\n",
       "      <th>mean</th>\n",
       "      <td>12.183273</td>\n",
       "      <td>3.474064</td>\n",
       "      <td>15281.160818</td>\n",
       "      <td>20.613638</td>\n",
       "    </tr>\n",
       "    <tr>\n",
       "      <th>std</th>\n",
       "      <td>250.283037</td>\n",
       "      <td>69.764035</td>\n",
       "      <td>1714.006089</td>\n",
       "      <td>430.352218</td>\n",
       "    </tr>\n",
       "    <tr>\n",
       "      <th>min</th>\n",
       "      <td>-80995.000000</td>\n",
       "      <td>0.000000</td>\n",
       "      <td>12346.000000</td>\n",
       "      <td>-168469.600000</td>\n",
       "    </tr>\n",
       "    <tr>\n",
       "      <th>25%</th>\n",
       "      <td>2.000000</td>\n",
       "      <td>1.250000</td>\n",
       "      <td>13939.000000</td>\n",
       "      <td>4.250000</td>\n",
       "    </tr>\n",
       "    <tr>\n",
       "      <th>50%</th>\n",
       "      <td>5.000000</td>\n",
       "      <td>1.950000</td>\n",
       "      <td>15145.000000</td>\n",
       "      <td>11.700000</td>\n",
       "    </tr>\n",
       "    <tr>\n",
       "      <th>75%</th>\n",
       "      <td>12.000000</td>\n",
       "      <td>3.750000</td>\n",
       "      <td>16784.000000</td>\n",
       "      <td>19.800000</td>\n",
       "    </tr>\n",
       "    <tr>\n",
       "      <th>max</th>\n",
       "      <td>80995.000000</td>\n",
       "      <td>38970.000000</td>\n",
       "      <td>18287.000000</td>\n",
       "      <td>168469.600000</td>\n",
       "    </tr>\n",
       "  </tbody>\n",
       "</table>\n",
       "</div>"
      ],
      "text/plain": [
       "            Quantity      UnitPrice     CustomerID    TotalAmount\n",
       "count  401604.000000  401604.000000  401604.000000  401604.000000\n",
       "mean       12.183273       3.474064   15281.160818      20.613638\n",
       "std       250.283037      69.764035    1714.006089     430.352218\n",
       "min    -80995.000000       0.000000   12346.000000 -168469.600000\n",
       "25%         2.000000       1.250000   13939.000000       4.250000\n",
       "50%         5.000000       1.950000   15145.000000      11.700000\n",
       "75%        12.000000       3.750000   16784.000000      19.800000\n",
       "max     80995.000000   38970.000000   18287.000000  168469.600000"
      ]
     },
     "execution_count": 50,
     "metadata": {},
     "output_type": "execute_result"
    }
   ],
   "source": [
    "# statistical analysis  for quntative variable \n",
    "data.describe()"
   ]
  },
  {
   "cell_type": "code",
   "execution_count": 51,
   "id": "a1951829",
   "metadata": {},
   "outputs": [
    {
     "data": {
      "text/html": [
       "<div>\n",
       "<style scoped>\n",
       "    .dataframe tbody tr th:only-of-type {\n",
       "        vertical-align: middle;\n",
       "    }\n",
       "\n",
       "    .dataframe tbody tr th {\n",
       "        vertical-align: top;\n",
       "    }\n",
       "\n",
       "    .dataframe thead th {\n",
       "        text-align: right;\n",
       "    }\n",
       "</style>\n",
       "<table border=\"1\" class=\"dataframe\">\n",
       "  <thead>\n",
       "    <tr style=\"text-align: right;\">\n",
       "      <th></th>\n",
       "      <th>InvoiceNo</th>\n",
       "      <th>StockCode</th>\n",
       "      <th>Description</th>\n",
       "      <th>Country</th>\n",
       "    </tr>\n",
       "  </thead>\n",
       "  <tbody>\n",
       "    <tr>\n",
       "      <th>count</th>\n",
       "      <td>401604</td>\n",
       "      <td>401604</td>\n",
       "      <td>401604</td>\n",
       "      <td>401604</td>\n",
       "    </tr>\n",
       "    <tr>\n",
       "      <th>unique</th>\n",
       "      <td>22190</td>\n",
       "      <td>3684</td>\n",
       "      <td>3896</td>\n",
       "      <td>37</td>\n",
       "    </tr>\n",
       "    <tr>\n",
       "      <th>top</th>\n",
       "      <td>576339</td>\n",
       "      <td>85123A</td>\n",
       "      <td>WHITE HANGING HEART T-LIGHT HOLDER</td>\n",
       "      <td>United Kingdom</td>\n",
       "    </tr>\n",
       "    <tr>\n",
       "      <th>freq</th>\n",
       "      <td>542</td>\n",
       "      <td>2065</td>\n",
       "      <td>2058</td>\n",
       "      <td>356728</td>\n",
       "    </tr>\n",
       "  </tbody>\n",
       "</table>\n",
       "</div>"
      ],
      "text/plain": [
       "        InvoiceNo StockCode                         Description  \\\n",
       "count      401604    401604                              401604   \n",
       "unique      22190      3684                                3896   \n",
       "top        576339    85123A  WHITE HANGING HEART T-LIGHT HOLDER   \n",
       "freq          542      2065                                2058   \n",
       "\n",
       "               Country  \n",
       "count           401604  \n",
       "unique              37  \n",
       "top     United Kingdom  \n",
       "freq            356728  "
      ]
     },
     "execution_count": 51,
     "metadata": {},
     "output_type": "execute_result"
    }
   ],
   "source": [
    "# statistical analysis for categorical variable \n",
    "data.describe(include=['O'])"
   ]
  },
  {
   "cell_type": "markdown",
   "id": "cfb5d184",
   "metadata": {},
   "source": [
    "### FILTERING "
   ]
  },
  {
   "cell_type": "code",
   "execution_count": 52,
   "id": "fa7baf53",
   "metadata": {},
   "outputs": [],
   "source": [
    "# numerical filtering\n",
    "\n",
    "data=data[(data['Quantity']>0) & (data['TotalAmount']>0)]\n",
    "\n"
   ]
  },
  {
   "cell_type": "code",
   "execution_count": 53,
   "id": "addf9d48",
   "metadata": {},
   "outputs": [
    {
     "data": {
      "text/plain": [
       "0         536365\n",
       "1         536365\n",
       "2         536365\n",
       "3         536365\n",
       "4         536365\n",
       "           ...  \n",
       "541904    581587\n",
       "541905    581587\n",
       "541906    581587\n",
       "541907    581587\n",
       "541908    581587\n",
       "Name: InvoiceNo, Length: 392692, dtype: object"
      ]
     },
     "execution_count": 53,
     "metadata": {},
     "output_type": "execute_result"
    }
   ],
   "source": [
    "data['InvoiceNo'].astype('str')"
   ]
  },
  {
   "cell_type": "code",
   "execution_count": 54,
   "id": "091a6cad",
   "metadata": {},
   "outputs": [],
   "source": [
    "# categorical filtering \n",
    "data=data[~data['InvoiceNo'].astype(str).str.contains('c')]"
   ]
  },
  {
   "cell_type": "code",
   "execution_count": 55,
   "id": "db3ddd72",
   "metadata": {},
   "outputs": [
    {
     "data": {
      "text/plain": [
       "(392692, 9)"
      ]
     },
     "execution_count": 55,
     "metadata": {},
     "output_type": "execute_result"
    }
   ],
   "source": [
    "data.shape"
   ]
  },
  {
   "cell_type": "code",
   "execution_count": 56,
   "id": "c5d88576",
   "metadata": {},
   "outputs": [],
   "source": [
    "sns.set()"
   ]
  },
  {
   "cell_type": "code",
   "execution_count": 57,
   "id": "526e584a",
   "metadata": {},
   "outputs": [],
   "source": [
    "# copy data to new datafram for RFM & CLUSTRING \n",
    "RFM=data.copy()"
   ]
  },
  {
   "cell_type": "markdown",
   "id": "b9368980",
   "metadata": {},
   "source": [
    "## EDA "
   ]
  },
  {
   "cell_type": "code",
   "execution_count": 58,
   "id": "17a0dc77",
   "metadata": {},
   "outputs": [
    {
     "data": {
      "image/png": "[encoded data removed]",
      "text/plain": [
       "<Figure size 432x288 with 1 Axes>"
      ]
     },
     "metadata": {},
     "output_type": "display_data"
    },
    {
     "data": {
      "text/plain": [
       "<Figure size 720x1440 with 0 Axes>"
      ]
     },
     "metadata": {},
     "output_type": "display_data"
    }
   ],
   "source": [
    "top_5= RFM.groupby(\"InvoiceNo\").agg({\"TotalAmount\":\"sum\"}).sort_values(by =\"TotalAmount\",ascending=False).head()\n",
    "top_5.plot(kind='bar');\n",
    "plt.title('top 5 invoices')\n",
    "plt.xlabel('invoice number')\n",
    "plt.ylabel('total price')\n",
    "plt.figure(figsize=(10,20))\n",
    "plt.show();"
   ]
  },
  {
   "cell_type": "code",
   "execution_count": 59,
   "id": "578d6ca9",
   "metadata": {},
   "outputs": [
    {
     "data": {
      "image/png": "[encoded data removed]",
      "text/plain": [
       "<Figure size 432x288 with 1 Axes>"
      ]
     },
     "metadata": {},
     "output_type": "display_data"
    }
   ],
   "source": [
    "top_5_p=RFM.groupby(\"Description\").agg({\"TotalAmount\":\"max\"}).sort_values(\"TotalAmount\", ascending = False).head()\n",
    "top_5_p.plot(kind='bar');"
   ]
  },
  {
   "cell_type": "code",
   "execution_count": 60,
   "id": "e042fb4d",
   "metadata": {},
   "outputs": [
    {
     "data": {
      "image/png": "[encoded data removed]",
      "text/plain": [
       "<Figure size 432x288 with 1 Axes>"
      ]
     },
     "metadata": {},
     "output_type": "display_data"
    }
   ],
   "source": [
    "top_5_c=RFM.groupby(\"Country\").agg({\"TotalAmount\":\"sum\"}).sort_values(\"TotalAmount\", ascending = False).head()\n",
    "top_5_c.plot(kind='bar');"
   ]
  },
  {
   "cell_type": "markdown",
   "id": "a9982a6a",
   "metadata": {},
   "source": [
    "## COHORT ANALYSIS "
   ]
  },
  {
   "cell_type": "code",
   "execution_count": 61,
   "id": "f1cdfae9",
   "metadata": {},
   "outputs": [],
   "source": [
    "# function to get the month from invoice date column\n",
    "def get_month(x):\n",
    "    return dt.datetime(x.year,x.month,1)\n",
    "    "
   ]
  },
  {
   "cell_type": "code",
   "execution_count": 62,
   "id": "901ff612",
   "metadata": {},
   "outputs": [
    {
     "ename": "NameError",
     "evalue": "name 'dt' is not defined",
     "output_type": "error",
     "traceback": [
      "\u001b[1;31m---------------------------------------------------------------------------\u001b[0m",
      "\u001b[1;31mNameError\u001b[0m                                 Traceback (most recent call last)",
      "\u001b[1;32m~\\AppData\\Local\\Temp/ipykernel_16088/1410161791.py\u001b[0m in \u001b[0;36m<module>\u001b[1;34m\u001b[0m\n\u001b[0;32m      1\u001b[0m \u001b[1;31m# add a new column to the dataframe \" extract the data from timestamp\"\u001b[0m\u001b[1;33m\u001b[0m\u001b[1;33m\u001b[0m\u001b[0m\n\u001b[1;32m----> 2\u001b[1;33m \u001b[0mRFM\u001b[0m\u001b[1;33m[\u001b[0m\u001b[1;34m'payment_month'\u001b[0m\u001b[1;33m]\u001b[0m\u001b[1;33m=\u001b[0m\u001b[0mRFM\u001b[0m\u001b[1;33m[\u001b[0m\u001b[1;34m'InvoiceDate'\u001b[0m\u001b[1;33m]\u001b[0m\u001b[1;33m.\u001b[0m\u001b[0mapply\u001b[0m\u001b[1;33m(\u001b[0m\u001b[0mget_month\u001b[0m\u001b[1;33m)\u001b[0m\u001b[1;33m\u001b[0m\u001b[1;33m\u001b[0m\u001b[0m\n\u001b[0m",
      "\u001b[1;32m~\\anaconda3\\lib\\site-packages\\pandas\\core\\series.py\u001b[0m in \u001b[0;36mapply\u001b[1;34m(self, func, convert_dtype, args, **kwargs)\u001b[0m\n\u001b[0;32m   4769\u001b[0m         \u001b[0mdtype\u001b[0m\u001b[1;33m:\u001b[0m \u001b[0mfloat64\u001b[0m\u001b[1;33m\u001b[0m\u001b[1;33m\u001b[0m\u001b[0m\n\u001b[0;32m   4770\u001b[0m         \"\"\"\n\u001b[1;32m-> 4771\u001b[1;33m         \u001b[1;32mreturn\u001b[0m \u001b[0mSeriesApply\u001b[0m\u001b[1;33m(\u001b[0m\u001b[0mself\u001b[0m\u001b[1;33m,\u001b[0m \u001b[0mfunc\u001b[0m\u001b[1;33m,\u001b[0m \u001b[0mconvert_dtype\u001b[0m\u001b[1;33m,\u001b[0m \u001b[0margs\u001b[0m\u001b[1;33m,\u001b[0m \u001b[0mkwargs\u001b[0m\u001b[1;33m)\u001b[0m\u001b[1;33m.\u001b[0m\u001b[0mapply\u001b[0m\u001b[1;33m(\u001b[0m\u001b[1;33m)\u001b[0m\u001b[1;33m\u001b[0m\u001b[1;33m\u001b[0m\u001b[0m\n\u001b[0m\u001b[0;32m   4772\u001b[0m \u001b[1;33m\u001b[0m\u001b[0m\n\u001b[0;32m   4773\u001b[0m     def _reduce(\n",
      "\u001b[1;32m~\\anaconda3\\lib\\site-packages\\pandas\\core\\apply.py\u001b[0m in \u001b[0;36mapply\u001b[1;34m(self)\u001b[0m\n\u001b[0;32m   1103\u001b[0m \u001b[1;33m\u001b[0m\u001b[0m\n\u001b[0;32m   1104\u001b[0m         \u001b[1;31m# self.f is Callable\u001b[0m\u001b[1;33m\u001b[0m\u001b[1;33m\u001b[0m\u001b[0m\n\u001b[1;32m-> 1105\u001b[1;33m         \u001b[1;32mreturn\u001b[0m \u001b[0mself\u001b[0m\u001b[1;33m.\u001b[0m\u001b[0mapply_standard\u001b[0m\u001b[1;33m(\u001b[0m\u001b[1;33m)\u001b[0m\u001b[1;33m\u001b[0m\u001b[1;33m\u001b[0m\u001b[0m\n\u001b[0m\u001b[0;32m   1106\u001b[0m \u001b[1;33m\u001b[0m\u001b[0m\n\u001b[0;32m   1107\u001b[0m     \u001b[1;32mdef\u001b[0m \u001b[0magg\u001b[0m\u001b[1;33m(\u001b[0m\u001b[0mself\u001b[0m\u001b[1;33m)\u001b[0m\u001b[1;33m:\u001b[0m\u001b[1;33m\u001b[0m\u001b[1;33m\u001b[0m\u001b[0m\n",
      "\u001b[1;32m~\\anaconda3\\lib\\site-packages\\pandas\\core\\apply.py\u001b[0m in \u001b[0;36mapply_standard\u001b[1;34m(self)\u001b[0m\n\u001b[0;32m   1154\u001b[0m             \u001b[1;32melse\u001b[0m\u001b[1;33m:\u001b[0m\u001b[1;33m\u001b[0m\u001b[1;33m\u001b[0m\u001b[0m\n\u001b[0;32m   1155\u001b[0m                 \u001b[0mvalues\u001b[0m \u001b[1;33m=\u001b[0m \u001b[0mobj\u001b[0m\u001b[1;33m.\u001b[0m\u001b[0mastype\u001b[0m\u001b[1;33m(\u001b[0m\u001b[0mobject\u001b[0m\u001b[1;33m)\u001b[0m\u001b[1;33m.\u001b[0m\u001b[0m_values\u001b[0m\u001b[1;33m\u001b[0m\u001b[1;33m\u001b[0m\u001b[0m\n\u001b[1;32m-> 1156\u001b[1;33m                 mapped = lib.map_infer(\n\u001b[0m\u001b[0;32m   1157\u001b[0m                     \u001b[0mvalues\u001b[0m\u001b[1;33m,\u001b[0m\u001b[1;33m\u001b[0m\u001b[1;33m\u001b[0m\u001b[0m\n\u001b[0;32m   1158\u001b[0m                     \u001b[0mf\u001b[0m\u001b[1;33m,\u001b[0m\u001b[1;33m\u001b[0m\u001b[1;33m\u001b[0m\u001b[0m\n",
      "\u001b[1;32m~\\anaconda3\\lib\\site-packages\\pandas\\_libs\\lib.pyx\u001b[0m in \u001b[0;36mpandas._libs.lib.map_infer\u001b[1;34m()\u001b[0m\n",
      "\u001b[1;32m~\\AppData\\Local\\Temp/ipykernel_16088/1326035607.py\u001b[0m in \u001b[0;36mget_month\u001b[1;34m(x)\u001b[0m\n\u001b[0;32m      1\u001b[0m \u001b[1;31m# function to get the month from invoice date column\u001b[0m\u001b[1;33m\u001b[0m\u001b[1;33m\u001b[0m\u001b[0m\n\u001b[0;32m      2\u001b[0m \u001b[1;32mdef\u001b[0m \u001b[0mget_month\u001b[0m\u001b[1;33m(\u001b[0m\u001b[0mx\u001b[0m\u001b[1;33m)\u001b[0m\u001b[1;33m:\u001b[0m\u001b[1;33m\u001b[0m\u001b[1;33m\u001b[0m\u001b[0m\n\u001b[1;32m----> 3\u001b[1;33m     \u001b[1;32mreturn\u001b[0m \u001b[0mdt\u001b[0m\u001b[1;33m.\u001b[0m\u001b[0mdatetime\u001b[0m\u001b[1;33m(\u001b[0m\u001b[0mx\u001b[0m\u001b[1;33m.\u001b[0m\u001b[0myear\u001b[0m\u001b[1;33m,\u001b[0m\u001b[0mx\u001b[0m\u001b[1;33m.\u001b[0m\u001b[0mmonth\u001b[0m\u001b[1;33m,\u001b[0m\u001b[1;36m1\u001b[0m\u001b[1;33m)\u001b[0m\u001b[1;33m\u001b[0m\u001b[1;33m\u001b[0m\u001b[0m\n\u001b[0m\u001b[0;32m      4\u001b[0m \u001b[1;33m\u001b[0m\u001b[0m\n",
      "\u001b[1;31mNameError\u001b[0m: name 'dt' is not defined"
     ]
    }
   ],
   "source": [
    "# add a new column to the dataframe \" extract the data from timestamp\"\n",
    "RFM['payment_month']=RFM['InvoiceDate'].apply(get_month)\n"
   ]
  },
  {
   "cell_type": "code",
   "execution_count": null,
   "id": "a6f0ce6a",
   "metadata": {},
   "outputs": [],
   "source": [
    "# check for the new column\n",
    "RFM.head()"
   ]
  },
  {
   "cell_type": "code",
   "execution_count": null,
   "id": "41b1baf4",
   "metadata": {},
   "outputs": [],
   "source": [
    "# get the first date that a customer entered the database \n",
    "RFM['cohort_month']=RFM.groupby('CustomerID')['payment_month'].transform('min')"
   ]
  },
  {
   "cell_type": "code",
   "execution_count": null,
   "id": "14669ac1",
   "metadata": {},
   "outputs": [],
   "source": [
    "#function to get the diffrence in the two columns :: \n",
    "def get_diff(df,col):\n",
    "    day=df[col].dt.day\n",
    "    month=df[col].dt.month\n",
    "    year=df[col].dt.year\n",
    "    return day,month,year"
   ]
  },
  {
   "cell_type": "code",
   "execution_count": null,
   "id": "f1470513",
   "metadata": {},
   "outputs": [],
   "source": [
    "# cohort month -- \n",
    "_,cohort_month,cohort_year=get_diff(RFM,'cohort_month')\n",
    "# purchase month -- \n",
    "_,payment_month,payment_year=get_diff(RFM,'payment_month')\n",
    "month_diff=payment_month-cohort_month\n",
    "year_diff=payment_year-cohort_year\n",
    "# get the diffrence -- \n",
    "RFM['cohort_index']= year_diff *12 +month_diff +1"
   ]
  },
  {
   "cell_type": "code",
   "execution_count": null,
   "id": "a8a782d4",
   "metadata": {},
   "outputs": [],
   "source": [
    "RFM.head()"
   ]
  },
  {
   "cell_type": "code",
   "execution_count": null,
   "id": "5ddcfd34",
   "metadata": {},
   "outputs": [],
   "source": [
    "# CREATE PIVOT TABLE THAT CONTAINS THE UNQIUE CUSTOMER ID AND THE PAYMENT MONTH \n",
    "RFM.groupby('payment_month')['CustomerID'].nunique()"
   ]
  },
  {
   "cell_type": "code",
   "execution_count": null,
   "id": "c646e260",
   "metadata": {},
   "outputs": [],
   "source": [
    "# GROUP BY COHORT MONTH AND INDEX BY THE UNIQUE CUSTOMER ID \n",
    "pivot_data=RFM.groupby(['cohort_month','cohort_index'])['CustomerID'].nunique().reset_index()\n"
   ]
  },
  {
   "cell_type": "code",
   "execution_count": null,
   "id": "589e8546",
   "metadata": {},
   "outputs": [],
   "source": [
    "#MAKE INDEX = cohort_month \n",
    "cohort=pivot_data.pivot(index='cohort_month',columns='cohort_index',values='CustomerID')\n",
    "cohort"
   ]
  },
  {
   "cell_type": "code",
   "execution_count": null,
   "id": "cba231fa",
   "metadata": {},
   "outputs": [],
   "source": [
    "# iloc used to divide the cohort value by itself along side the cohort index \n",
    "pivot=cohort.divide(cohort.iloc[:,0],axis=0)"
   ]
  },
  {
   "cell_type": "code",
   "execution_count": null,
   "id": "8be5c1c9",
   "metadata": {},
   "outputs": [],
   "source": [
    "pivot.index=pivot.index.strftime('%B' '%Y')\n",
    "pivot=pivot.divide(pivot.iloc[:,0],axis=0)"
   ]
  },
  {
   "cell_type": "code",
   "execution_count": null,
   "id": "6a14b65f",
   "metadata": {},
   "outputs": [],
   "source": [
    "\n",
    "plt.figure(figsize=(21,10))\n",
    "plt.title('COHORT ANALYSIS ')\n",
    "sns.heatmap(pivot,annot=True,fmt = '.0%',vmin= 0.0,\n",
    "           vmax=0.5,cmap='Blues')\n",
    "plt.show()"
   ]
  },
  {
   "cell_type": "markdown",
   "id": "b994cefd",
   "metadata": {},
   "source": [
    "# average price "
   ]
  },
  {
   "cell_type": "code",
   "execution_count": null,
   "id": "8e214993",
   "metadata": {},
   "outputs": [],
   "source": [
    "pivot_data=RFM.groupby(['cohort_month','cohort_index'])['Quantity'].mean().reset_index()\n",
    "cohort=pivot_data.pivot(index='cohort_month',columns='cohort_index',values='Quantity')"
   ]
  },
  {
   "cell_type": "code",
   "execution_count": null,
   "id": "7c2abe10",
   "metadata": {},
   "outputs": [],
   "source": [
    "#cohort.index=cohort.index.strftime('%B' '%Y')\n",
    "plt.figure(figsize=(21,10))\n",
    "plt.title('average quntity per cohort  ')\n",
    "sns.heatmap(cohort,annot=True,vmin = 0.0,vmax =20,cmap='BuGn_r')\n",
    "plt.show()"
   ]
  },
  {
   "cell_type": "markdown",
   "id": "a9e02cf3",
   "metadata": {},
   "source": [
    "## AVG QUNANTITY "
   ]
  },
  {
   "cell_type": "code",
   "execution_count": null,
   "id": "5829cc16",
   "metadata": {},
   "outputs": [],
   "source": [
    "\n",
    "pivot_data=RFM.groupby(['cohort_month','cohort_index'])['TotalAmount'].mean().reset_index()\n",
    "cohort=pivot_data.pivot(index='cohort_month',columns='cohort_index',values='TotalAmount')"
   ]
  },
  {
   "cell_type": "code",
   "execution_count": null,
   "id": "5c054ce8",
   "metadata": {},
   "outputs": [],
   "source": [
    "cohort.index=cohort.index.strftime('%B' '%Y')\n",
    "plt.figure(figsize=(21,10))\n",
    "plt.title('average price per cohort  ')\n",
    "sns.heatmap(cohort,annot=True,vmin = 0.0,vmax =20,cmap='BuPu')\n",
    "plt.show()"
   ]
  },
  {
   "cell_type": "markdown",
   "id": "fcec793c",
   "metadata": {},
   "source": [
    "## RFM ANALYSIS "
   ]
  },
  {
   "cell_type": "code",
   "execution_count": 64,
   "id": "95ce8733",
   "metadata": {},
   "outputs": [
    {
     "data": {
      "text/html": [
       "<div>\n",
       "<style scoped>\n",
       "    .dataframe tbody tr th:only-of-type {\n",
       "        vertical-align: middle;\n",
       "    }\n",
       "\n",
       "    .dataframe tbody tr th {\n",
       "        vertical-align: top;\n",
       "    }\n",
       "\n",
       "    .dataframe thead th {\n",
       "        text-align: right;\n",
       "    }\n",
       "</style>\n",
       "<table border=\"1\" class=\"dataframe\">\n",
       "  <thead>\n",
       "    <tr style=\"text-align: right;\">\n",
       "      <th></th>\n",
       "      <th>InvoiceNo</th>\n",
       "      <th>StockCode</th>\n",
       "      <th>Description</th>\n",
       "      <th>Quantity</th>\n",
       "      <th>InvoiceDate</th>\n",
       "      <th>UnitPrice</th>\n",
       "      <th>CustomerID</th>\n",
       "      <th>Country</th>\n",
       "      <th>TotalAmount</th>\n",
       "    </tr>\n",
       "  </thead>\n",
       "  <tbody>\n",
       "    <tr>\n",
       "      <th>0</th>\n",
       "      <td>536365</td>\n",
       "      <td>85123A</td>\n",
       "      <td>WHITE HANGING HEART T-LIGHT HOLDER</td>\n",
       "      <td>6</td>\n",
       "      <td>2010-12-01 08:26:00</td>\n",
       "      <td>2.55</td>\n",
       "      <td>17850</td>\n",
       "      <td>United Kingdom</td>\n",
       "      <td>15.30</td>\n",
       "    </tr>\n",
       "    <tr>\n",
       "      <th>1</th>\n",
       "      <td>536365</td>\n",
       "      <td>71053</td>\n",
       "      <td>WHITE METAL LANTERN</td>\n",
       "      <td>6</td>\n",
       "      <td>2010-12-01 08:26:00</td>\n",
       "      <td>3.39</td>\n",
       "      <td>17850</td>\n",
       "      <td>United Kingdom</td>\n",
       "      <td>20.34</td>\n",
       "    </tr>\n",
       "    <tr>\n",
       "      <th>2</th>\n",
       "      <td>536365</td>\n",
       "      <td>84406B</td>\n",
       "      <td>CREAM CUPID HEARTS COAT HANGER</td>\n",
       "      <td>8</td>\n",
       "      <td>2010-12-01 08:26:00</td>\n",
       "      <td>2.75</td>\n",
       "      <td>17850</td>\n",
       "      <td>United Kingdom</td>\n",
       "      <td>22.00</td>\n",
       "    </tr>\n",
       "    <tr>\n",
       "      <th>3</th>\n",
       "      <td>536365</td>\n",
       "      <td>84029G</td>\n",
       "      <td>KNITTED UNION FLAG HOT WATER BOTTLE</td>\n",
       "      <td>6</td>\n",
       "      <td>2010-12-01 08:26:00</td>\n",
       "      <td>3.39</td>\n",
       "      <td>17850</td>\n",
       "      <td>United Kingdom</td>\n",
       "      <td>20.34</td>\n",
       "    </tr>\n",
       "    <tr>\n",
       "      <th>4</th>\n",
       "      <td>536365</td>\n",
       "      <td>84029E</td>\n",
       "      <td>RED WOOLLY HOTTIE WHITE HEART.</td>\n",
       "      <td>6</td>\n",
       "      <td>2010-12-01 08:26:00</td>\n",
       "      <td>3.39</td>\n",
       "      <td>17850</td>\n",
       "      <td>United Kingdom</td>\n",
       "      <td>20.34</td>\n",
       "    </tr>\n",
       "  </tbody>\n",
       "</table>\n",
       "</div>"
      ],
      "text/plain": [
       "  InvoiceNo StockCode                          Description  Quantity  \\\n",
       "0    536365    85123A   WHITE HANGING HEART T-LIGHT HOLDER         6   \n",
       "1    536365     71053                  WHITE METAL LANTERN         6   \n",
       "2    536365    84406B       CREAM CUPID HEARTS COAT HANGER         8   \n",
       "3    536365    84029G  KNITTED UNION FLAG HOT WATER BOTTLE         6   \n",
       "4    536365    84029E       RED WOOLLY HOTTIE WHITE HEART.         6   \n",
       "\n",
       "          InvoiceDate  UnitPrice  CustomerID         Country  TotalAmount  \n",
       "0 2010-12-01 08:26:00       2.55       17850  United Kingdom        15.30  \n",
       "1 2010-12-01 08:26:00       3.39       17850  United Kingdom        20.34  \n",
       "2 2010-12-01 08:26:00       2.75       17850  United Kingdom        22.00  \n",
       "3 2010-12-01 08:26:00       3.39       17850  United Kingdom        20.34  \n",
       "4 2010-12-01 08:26:00       3.39       17850  United Kingdom        20.34  "
      ]
     },
     "execution_count": 64,
     "metadata": {},
     "output_type": "execute_result"
    }
   ],
   "source": [
    "# read data into dataframe \n",
    "RFM.head()"
   ]
  },
  {
   "cell_type": "code",
   "execution_count": 65,
   "id": "9d78cbaf",
   "metadata": {},
   "outputs": [],
   "source": [
    "\n",
    "max_date=RFM['InvoiceDate'].max()\n",
    "today=max_date+timedelta(days = 1)"
   ]
  },
  {
   "cell_type": "code",
   "execution_count": 66,
   "id": "44905987",
   "metadata": {},
   "outputs": [],
   "source": [
    "RFM = RFM.groupby('CustomerID').agg({\n",
    "            'InvoiceDate':lambda x:(today-x.max()).days,\n",
    "           'InvoiceNo':'count',\n",
    "            'TotalAmount':'sum'})"
   ]
  },
  {
   "cell_type": "code",
   "execution_count": 67,
   "id": "d2a035bf",
   "metadata": {},
   "outputs": [
    {
     "data": {
      "text/html": [
       "<div>\n",
       "<style scoped>\n",
       "    .dataframe tbody tr th:only-of-type {\n",
       "        vertical-align: middle;\n",
       "    }\n",
       "\n",
       "    .dataframe tbody tr th {\n",
       "        vertical-align: top;\n",
       "    }\n",
       "\n",
       "    .dataframe thead th {\n",
       "        text-align: right;\n",
       "    }\n",
       "</style>\n",
       "<table border=\"1\" class=\"dataframe\">\n",
       "  <thead>\n",
       "    <tr style=\"text-align: right;\">\n",
       "      <th></th>\n",
       "      <th>InvoiceDate</th>\n",
       "      <th>InvoiceNo</th>\n",
       "      <th>TotalAmount</th>\n",
       "    </tr>\n",
       "    <tr>\n",
       "      <th>CustomerID</th>\n",
       "      <th></th>\n",
       "      <th></th>\n",
       "      <th></th>\n",
       "    </tr>\n",
       "  </thead>\n",
       "  <tbody>\n",
       "    <tr>\n",
       "      <th>12346</th>\n",
       "      <td>326</td>\n",
       "      <td>1</td>\n",
       "      <td>77183.60</td>\n",
       "    </tr>\n",
       "    <tr>\n",
       "      <th>12347</th>\n",
       "      <td>2</td>\n",
       "      <td>182</td>\n",
       "      <td>4310.00</td>\n",
       "    </tr>\n",
       "    <tr>\n",
       "      <th>12348</th>\n",
       "      <td>75</td>\n",
       "      <td>31</td>\n",
       "      <td>1797.24</td>\n",
       "    </tr>\n",
       "    <tr>\n",
       "      <th>12349</th>\n",
       "      <td>19</td>\n",
       "      <td>73</td>\n",
       "      <td>1757.55</td>\n",
       "    </tr>\n",
       "    <tr>\n",
       "      <th>12350</th>\n",
       "      <td>310</td>\n",
       "      <td>17</td>\n",
       "      <td>334.40</td>\n",
       "    </tr>\n",
       "  </tbody>\n",
       "</table>\n",
       "</div>"
      ],
      "text/plain": [
       "            InvoiceDate  InvoiceNo  TotalAmount\n",
       "CustomerID                                     \n",
       "12346               326          1     77183.60\n",
       "12347                 2        182      4310.00\n",
       "12348                75         31      1797.24\n",
       "12349                19         73      1757.55\n",
       "12350               310         17       334.40"
      ]
     },
     "execution_count": 67,
     "metadata": {},
     "output_type": "execute_result"
    }
   ],
   "source": [
    "RFM.head()"
   ]
  },
  {
   "cell_type": "code",
   "execution_count": 68,
   "id": "ffc29328",
   "metadata": {},
   "outputs": [],
   "source": [
    "RFM.rename(columns={'InvoiceDate':'Recency',\n",
    "                   'InvoiceNo':'Freq',\n",
    "                   'TotalAmount':'Montearyvalue'},inplace=True)\n"
   ]
  },
  {
   "cell_type": "code",
   "execution_count": 69,
   "id": "a3b05156",
   "metadata": {},
   "outputs": [
    {
     "data": {
      "text/html": [
       "<div>\n",
       "<style scoped>\n",
       "    .dataframe tbody tr th:only-of-type {\n",
       "        vertical-align: middle;\n",
       "    }\n",
       "\n",
       "    .dataframe tbody tr th {\n",
       "        vertical-align: top;\n",
       "    }\n",
       "\n",
       "    .dataframe thead th {\n",
       "        text-align: right;\n",
       "    }\n",
       "</style>\n",
       "<table border=\"1\" class=\"dataframe\">\n",
       "  <thead>\n",
       "    <tr style=\"text-align: right;\">\n",
       "      <th></th>\n",
       "      <th>Recency</th>\n",
       "      <th>Freq</th>\n",
       "      <th>Montearyvalue</th>\n",
       "    </tr>\n",
       "    <tr>\n",
       "      <th>CustomerID</th>\n",
       "      <th></th>\n",
       "      <th></th>\n",
       "      <th></th>\n",
       "    </tr>\n",
       "  </thead>\n",
       "  <tbody>\n",
       "    <tr>\n",
       "      <th>12346</th>\n",
       "      <td>326</td>\n",
       "      <td>1</td>\n",
       "      <td>77183.60</td>\n",
       "    </tr>\n",
       "    <tr>\n",
       "      <th>12347</th>\n",
       "      <td>2</td>\n",
       "      <td>182</td>\n",
       "      <td>4310.00</td>\n",
       "    </tr>\n",
       "    <tr>\n",
       "      <th>12348</th>\n",
       "      <td>75</td>\n",
       "      <td>31</td>\n",
       "      <td>1797.24</td>\n",
       "    </tr>\n",
       "    <tr>\n",
       "      <th>12349</th>\n",
       "      <td>19</td>\n",
       "      <td>73</td>\n",
       "      <td>1757.55</td>\n",
       "    </tr>\n",
       "    <tr>\n",
       "      <th>12350</th>\n",
       "      <td>310</td>\n",
       "      <td>17</td>\n",
       "      <td>334.40</td>\n",
       "    </tr>\n",
       "  </tbody>\n",
       "</table>\n",
       "</div>"
      ],
      "text/plain": [
       "            Recency  Freq  Montearyvalue\n",
       "CustomerID                              \n",
       "12346           326     1       77183.60\n",
       "12347             2   182        4310.00\n",
       "12348            75    31        1797.24\n",
       "12349            19    73        1757.55\n",
       "12350           310    17         334.40"
      ]
     },
     "execution_count": 69,
     "metadata": {},
     "output_type": "execute_result"
    }
   ],
   "source": [
    "RFM.head()"
   ]
  },
  {
   "cell_type": "code",
   "execution_count": null,
   "id": "cdcd075c",
   "metadata": {},
   "outputs": [],
   "source": []
  },
  {
   "cell_type": "markdown",
   "id": "d1e17515",
   "metadata": {},
   "source": [
    "## RFM SEGMENTS"
   ]
  },
  {
   "cell_type": "code",
   "execution_count": 70,
   "id": "5f5c1903",
   "metadata": {},
   "outputs": [],
   "source": [
    "# -1 to indiacte that less is better ----RECENCY\n",
    "r_labels=range(4,0,-1)\n",
    "r_q=pd.qcut(RFM['Recency'],q=4,labels=r_labels)\n",
    "    # pd.qcut will devide the data into 4 q with the same size \n",
    "RFM=RFM.assign(R=r_q.values)"
   ]
  },
  {
   "cell_type": "code",
   "execution_count": 71,
   "id": "393c0ce4",
   "metadata": {},
   "outputs": [],
   "source": [
    "f_label=range(1,5)\n",
    "\n",
    "f_q=pd.qcut(RFM['Freq'],q=4,labels=f_label)\n",
    "\n",
    "RFM=RFM.assign(F=f_q.values)"
   ]
  },
  {
   "cell_type": "code",
   "execution_count": 72,
   "id": "ecd711f0",
   "metadata": {},
   "outputs": [],
   "source": [
    "m_label=range(1,5)\n",
    "m_q= pd.qcut(RFM['Montearyvalue'],q=4,labels=m_label)\n",
    "RFM=RFM.assign(M=f_q.values)"
   ]
  },
  {
   "cell_type": "code",
   "execution_count": 73,
   "id": "53aa870c",
   "metadata": {},
   "outputs": [
    {
     "data": {
      "text/html": [
       "<div>\n",
       "<style scoped>\n",
       "    .dataframe tbody tr th:only-of-type {\n",
       "        vertical-align: middle;\n",
       "    }\n",
       "\n",
       "    .dataframe tbody tr th {\n",
       "        vertical-align: top;\n",
       "    }\n",
       "\n",
       "    .dataframe thead th {\n",
       "        text-align: right;\n",
       "    }\n",
       "</style>\n",
       "<table border=\"1\" class=\"dataframe\">\n",
       "  <thead>\n",
       "    <tr style=\"text-align: right;\">\n",
       "      <th></th>\n",
       "      <th>Recency</th>\n",
       "      <th>Freq</th>\n",
       "      <th>Montearyvalue</th>\n",
       "      <th>R</th>\n",
       "      <th>F</th>\n",
       "      <th>M</th>\n",
       "    </tr>\n",
       "    <tr>\n",
       "      <th>CustomerID</th>\n",
       "      <th></th>\n",
       "      <th></th>\n",
       "      <th></th>\n",
       "      <th></th>\n",
       "      <th></th>\n",
       "      <th></th>\n",
       "    </tr>\n",
       "  </thead>\n",
       "  <tbody>\n",
       "    <tr>\n",
       "      <th>12346</th>\n",
       "      <td>326</td>\n",
       "      <td>1</td>\n",
       "      <td>77183.60</td>\n",
       "      <td>1</td>\n",
       "      <td>1</td>\n",
       "      <td>1</td>\n",
       "    </tr>\n",
       "    <tr>\n",
       "      <th>12347</th>\n",
       "      <td>2</td>\n",
       "      <td>182</td>\n",
       "      <td>4310.00</td>\n",
       "      <td>4</td>\n",
       "      <td>4</td>\n",
       "      <td>4</td>\n",
       "    </tr>\n",
       "    <tr>\n",
       "      <th>12348</th>\n",
       "      <td>75</td>\n",
       "      <td>31</td>\n",
       "      <td>1797.24</td>\n",
       "      <td>2</td>\n",
       "      <td>2</td>\n",
       "      <td>2</td>\n",
       "    </tr>\n",
       "    <tr>\n",
       "      <th>12349</th>\n",
       "      <td>19</td>\n",
       "      <td>73</td>\n",
       "      <td>1757.55</td>\n",
       "      <td>3</td>\n",
       "      <td>3</td>\n",
       "      <td>3</td>\n",
       "    </tr>\n",
       "    <tr>\n",
       "      <th>12350</th>\n",
       "      <td>310</td>\n",
       "      <td>17</td>\n",
       "      <td>334.40</td>\n",
       "      <td>1</td>\n",
       "      <td>1</td>\n",
       "      <td>1</td>\n",
       "    </tr>\n",
       "  </tbody>\n",
       "</table>\n",
       "</div>"
      ],
      "text/plain": [
       "            Recency  Freq  Montearyvalue  R  F  M\n",
       "CustomerID                                       \n",
       "12346           326     1       77183.60  1  1  1\n",
       "12347             2   182        4310.00  4  4  4\n",
       "12348            75    31        1797.24  2  2  2\n",
       "12349            19    73        1757.55  3  3  3\n",
       "12350           310    17         334.40  1  1  1"
      ]
     },
     "execution_count": 73,
     "metadata": {},
     "output_type": "execute_result"
    }
   ],
   "source": [
    "RFM.head()"
   ]
  },
  {
   "cell_type": "code",
   "execution_count": 78,
   "id": "3272fbc5",
   "metadata": {},
   "outputs": [],
   "source": [
    "# now its time for concation \n",
    "RFM['score']=RFM[['R','F','M']].sum(axis=1)"
   ]
  },
  {
   "cell_type": "code",
   "execution_count": 79,
   "id": "8be05111",
   "metadata": {},
   "outputs": [],
   "source": [
    "# segment \n",
    "def join(x):\n",
    "    return str(x['R']) + str(x['F']) + str(x['M'])\n",
    "RFM['segment']=RFM.apply(join,axis=1)"
   ]
  },
  {
   "cell_type": "code",
   "execution_count": 80,
   "id": "3cd350dc",
   "metadata": {},
   "outputs": [
    {
     "data": {
      "text/html": [
       "<div>\n",
       "<style scoped>\n",
       "    .dataframe tbody tr th:only-of-type {\n",
       "        vertical-align: middle;\n",
       "    }\n",
       "\n",
       "    .dataframe tbody tr th {\n",
       "        vertical-align: top;\n",
       "    }\n",
       "\n",
       "    .dataframe thead th {\n",
       "        text-align: right;\n",
       "    }\n",
       "</style>\n",
       "<table border=\"1\" class=\"dataframe\">\n",
       "  <thead>\n",
       "    <tr style=\"text-align: right;\">\n",
       "      <th></th>\n",
       "      <th>Recency</th>\n",
       "      <th>Freq</th>\n",
       "      <th>Montearyvalue</th>\n",
       "      <th>R</th>\n",
       "      <th>F</th>\n",
       "      <th>M</th>\n",
       "      <th>score</th>\n",
       "      <th>segment</th>\n",
       "    </tr>\n",
       "    <tr>\n",
       "      <th>CustomerID</th>\n",
       "      <th></th>\n",
       "      <th></th>\n",
       "      <th></th>\n",
       "      <th></th>\n",
       "      <th></th>\n",
       "      <th></th>\n",
       "      <th></th>\n",
       "      <th></th>\n",
       "    </tr>\n",
       "  </thead>\n",
       "  <tbody>\n",
       "    <tr>\n",
       "      <th>12346</th>\n",
       "      <td>326</td>\n",
       "      <td>1</td>\n",
       "      <td>77183.60</td>\n",
       "      <td>1</td>\n",
       "      <td>1</td>\n",
       "      <td>1</td>\n",
       "      <td>3</td>\n",
       "      <td>111</td>\n",
       "    </tr>\n",
       "    <tr>\n",
       "      <th>12347</th>\n",
       "      <td>2</td>\n",
       "      <td>182</td>\n",
       "      <td>4310.00</td>\n",
       "      <td>4</td>\n",
       "      <td>4</td>\n",
       "      <td>4</td>\n",
       "      <td>12</td>\n",
       "      <td>444</td>\n",
       "    </tr>\n",
       "    <tr>\n",
       "      <th>12348</th>\n",
       "      <td>75</td>\n",
       "      <td>31</td>\n",
       "      <td>1797.24</td>\n",
       "      <td>2</td>\n",
       "      <td>2</td>\n",
       "      <td>2</td>\n",
       "      <td>6</td>\n",
       "      <td>222</td>\n",
       "    </tr>\n",
       "    <tr>\n",
       "      <th>12349</th>\n",
       "      <td>19</td>\n",
       "      <td>73</td>\n",
       "      <td>1757.55</td>\n",
       "      <td>3</td>\n",
       "      <td>3</td>\n",
       "      <td>3</td>\n",
       "      <td>9</td>\n",
       "      <td>333</td>\n",
       "    </tr>\n",
       "    <tr>\n",
       "      <th>12350</th>\n",
       "      <td>310</td>\n",
       "      <td>17</td>\n",
       "      <td>334.40</td>\n",
       "      <td>1</td>\n",
       "      <td>1</td>\n",
       "      <td>1</td>\n",
       "      <td>3</td>\n",
       "      <td>111</td>\n",
       "    </tr>\n",
       "  </tbody>\n",
       "</table>\n",
       "</div>"
      ],
      "text/plain": [
       "            Recency  Freq  Montearyvalue  R  F  M  score segment\n",
       "CustomerID                                                      \n",
       "12346           326     1       77183.60  1  1  1      3     111\n",
       "12347             2   182        4310.00  4  4  4     12     444\n",
       "12348            75    31        1797.24  2  2  2      6     222\n",
       "12349            19    73        1757.55  3  3  3      9     333\n",
       "12350           310    17         334.40  1  1  1      3     111"
      ]
     },
     "execution_count": 80,
     "metadata": {},
     "output_type": "execute_result"
    }
   ],
   "source": [
    "RFM.head()"
   ]
  },
  {
   "cell_type": "code",
   "execution_count": 81,
   "id": "e65c47f0",
   "metadata": {},
   "outputs": [],
   "source": [
    "# DIVIDE CUSTOMERS based on SCORE \n",
    "def segment(df):\n",
    "    if df['score']>=9 :\n",
    "        return 'gold'\n",
    "    elif (df['score']>=5) and (df['score']<9):\n",
    "        return 'silver'\n",
    "    else:\n",
    "        return \"bronze\""
   ]
  },
  {
   "cell_type": "code",
   "execution_count": 82,
   "id": "0cbfc05f",
   "metadata": {},
   "outputs": [],
   "source": [
    "RFM['tier']=RFM.apply(segment,axis=1)"
   ]
  },
  {
   "cell_type": "code",
   "execution_count": 83,
   "id": "98b2757e",
   "metadata": {},
   "outputs": [
    {
     "data": {
      "text/html": [
       "<div>\n",
       "<style scoped>\n",
       "    .dataframe tbody tr th:only-of-type {\n",
       "        vertical-align: middle;\n",
       "    }\n",
       "\n",
       "    .dataframe tbody tr th {\n",
       "        vertical-align: top;\n",
       "    }\n",
       "\n",
       "    .dataframe thead th {\n",
       "        text-align: right;\n",
       "    }\n",
       "</style>\n",
       "<table border=\"1\" class=\"dataframe\">\n",
       "  <thead>\n",
       "    <tr style=\"text-align: right;\">\n",
       "      <th></th>\n",
       "      <th>Recency</th>\n",
       "      <th>Freq</th>\n",
       "      <th>Montearyvalue</th>\n",
       "      <th>R</th>\n",
       "      <th>F</th>\n",
       "      <th>M</th>\n",
       "      <th>score</th>\n",
       "      <th>segment</th>\n",
       "      <th>tier</th>\n",
       "    </tr>\n",
       "    <tr>\n",
       "      <th>CustomerID</th>\n",
       "      <th></th>\n",
       "      <th></th>\n",
       "      <th></th>\n",
       "      <th></th>\n",
       "      <th></th>\n",
       "      <th></th>\n",
       "      <th></th>\n",
       "      <th></th>\n",
       "      <th></th>\n",
       "    </tr>\n",
       "  </thead>\n",
       "  <tbody>\n",
       "    <tr>\n",
       "      <th>12346</th>\n",
       "      <td>326</td>\n",
       "      <td>1</td>\n",
       "      <td>77183.60</td>\n",
       "      <td>1</td>\n",
       "      <td>1</td>\n",
       "      <td>1</td>\n",
       "      <td>3</td>\n",
       "      <td>111</td>\n",
       "      <td>bronze</td>\n",
       "    </tr>\n",
       "    <tr>\n",
       "      <th>12347</th>\n",
       "      <td>2</td>\n",
       "      <td>182</td>\n",
       "      <td>4310.00</td>\n",
       "      <td>4</td>\n",
       "      <td>4</td>\n",
       "      <td>4</td>\n",
       "      <td>12</td>\n",
       "      <td>444</td>\n",
       "      <td>gold</td>\n",
       "    </tr>\n",
       "    <tr>\n",
       "      <th>12348</th>\n",
       "      <td>75</td>\n",
       "      <td>31</td>\n",
       "      <td>1797.24</td>\n",
       "      <td>2</td>\n",
       "      <td>2</td>\n",
       "      <td>2</td>\n",
       "      <td>6</td>\n",
       "      <td>222</td>\n",
       "      <td>silver</td>\n",
       "    </tr>\n",
       "    <tr>\n",
       "      <th>12349</th>\n",
       "      <td>19</td>\n",
       "      <td>73</td>\n",
       "      <td>1757.55</td>\n",
       "      <td>3</td>\n",
       "      <td>3</td>\n",
       "      <td>3</td>\n",
       "      <td>9</td>\n",
       "      <td>333</td>\n",
       "      <td>gold</td>\n",
       "    </tr>\n",
       "    <tr>\n",
       "      <th>12350</th>\n",
       "      <td>310</td>\n",
       "      <td>17</td>\n",
       "      <td>334.40</td>\n",
       "      <td>1</td>\n",
       "      <td>1</td>\n",
       "      <td>1</td>\n",
       "      <td>3</td>\n",
       "      <td>111</td>\n",
       "      <td>bronze</td>\n",
       "    </tr>\n",
       "  </tbody>\n",
       "</table>\n",
       "</div>"
      ],
      "text/plain": [
       "            Recency  Freq  Montearyvalue  R  F  M  score segment    tier\n",
       "CustomerID                                                              \n",
       "12346           326     1       77183.60  1  1  1      3     111  bronze\n",
       "12347             2   182        4310.00  4  4  4     12     444    gold\n",
       "12348            75    31        1797.24  2  2  2      6     222  silver\n",
       "12349            19    73        1757.55  3  3  3      9     333    gold\n",
       "12350           310    17         334.40  1  1  1      3     111  bronze"
      ]
     },
     "execution_count": 83,
     "metadata": {},
     "output_type": "execute_result"
    }
   ],
   "source": [
    "RFM.head()"
   ]
  },
  {
   "cell_type": "code",
   "execution_count": 84,
   "id": "8ee94ad5",
   "metadata": {},
   "outputs": [],
   "source": [
    "x=RFM.groupby('tier').agg({'Recency':'mean','Freq':'mean',\n",
    "                                    'Montearyvalue':['mean','count']}).round(1)"
   ]
  },
  {
   "cell_type": "code",
   "execution_count": 85,
   "id": "d6560ef6",
   "metadata": {},
   "outputs": [
    {
     "data": {
      "text/plain": [
       "<AxesSubplot:xlabel='tier'>"
      ]
     },
     "execution_count": 85,
     "metadata": {},
     "output_type": "execute_result"
    },
    {
     "data": {
      "image/png": "[encoded data removed]",
      "text/plain": [
       "<Figure size 432x288 with 1 Axes>"
      ]
     },
     "metadata": {},
     "output_type": "display_data"
    }
   ],
   "source": [
    "\n",
    "x.plot(kind='bar')"
   ]
  },
  {
   "cell_type": "markdown",
   "id": "4dfdd1a3",
   "metadata": {},
   "source": [
    "GOLD TIER HAVE HIGHER MONTARERY VALUES- \n",
    "SILVER TIER HAVE- HIGHER NUMBERS OF PURCHASING BUT LESS IN RECENCY \n",
    "BRONZE HAVE ALMOST FREQ "
   ]
  },
  {
   "cell_type": "code",
   "execution_count": 86,
   "id": "adb40684",
   "metadata": {},
   "outputs": [
    {
     "data": {
      "text/plain": [
       "<AxesSubplot:xlabel='score'>"
      ]
     },
     "execution_count": 86,
     "metadata": {},
     "output_type": "execute_result"
    },
    {
     "data": {
      "image/png": "[encoded data removed]",
      "text/plain": [
       "<Figure size 432x288 with 1 Axes>"
      ]
     },
     "metadata": {},
     "output_type": "display_data"
    }
   ],
   "source": [
    "RFM.groupby('score').agg('Montearyvalue').mean().plot(kind='bar', colormap='vlag')"
   ]
  },
  {
   "cell_type": "code",
   "execution_count": 87,
   "id": "96086748",
   "metadata": {},
   "outputs": [
    {
     "data": {
      "text/plain": [
       "<AxesSubplot:xlabel='score'>"
      ]
     },
     "execution_count": 87,
     "metadata": {},
     "output_type": "execute_result"
    },
    {
     "data": {
      "image/png": "[encoded data removed]",
      "text/plain": [
       "<Figure size 432x288 with 1 Axes>"
      ]
     },
     "metadata": {},
     "output_type": "display_data"
    }
   ],
   "source": [
    "RFM.groupby('score').agg('Freq').mean().plot(kind='bar', colormap='vlag')"
   ]
  },
  {
   "cell_type": "code",
   "execution_count": 88,
   "id": "311ae2ce",
   "metadata": {},
   "outputs": [
    {
     "data": {
      "text/plain": [
       "<AxesSubplot:xlabel='score'>"
      ]
     },
     "execution_count": 88,
     "metadata": {},
     "output_type": "execute_result"
    },
    {
     "data": {
      "image/png": "[encoded data removed]",
      "text/plain": [
       "<Figure size 432x288 with 1 Axes>"
      ]
     },
     "metadata": {},
     "output_type": "display_data"
    }
   ],
   "source": [
    "RFM.groupby('score').agg('Recency').mean().plot(kind='bar', colormap='vlag')\n",
    "# less the better in recency "
   ]
  },
  {
   "cell_type": "markdown",
   "id": "a199bf47",
   "metadata": {},
   "source": [
    "#### based on the above 3 graphs the R,F,M is consistant "
   ]
  },
  {
   "cell_type": "code",
   "execution_count": null,
   "id": "9df7d761",
   "metadata": {},
   "outputs": [],
   "source": []
  },
  {
   "cell_type": "code",
   "execution_count": null,
   "id": "ba08e7da",
   "metadata": {},
   "outputs": [],
   "source": []
  }
 ],
 "metadata": {
  "kernelspec": {
   "display_name": "Python 3 (ipykernel)",
   "language": "python",
   "name": "python3"
  },
  "language_info": {
   "codemirror_mode": {
    "name": "ipython",
    "version": 3
   },
   "file_extension": ".py",
   "mimetype": "text/x-python",
   "name": "python",
   "nbconvert_exporter": "python",
   "pygments_lexer": "ipython3",
   "version": "3.9.7"
  }
 },
 "nbformat": 4,
 "nbformat_minor": 5
}
